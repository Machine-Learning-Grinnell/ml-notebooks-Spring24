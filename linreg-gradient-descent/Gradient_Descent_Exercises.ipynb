{
  "nbformat": 4,
  "nbformat_minor": 0,
  "metadata": {
    "colab": {
      "provenance": [],
      "authorship_tag": "ABX9TyPjWRHXIlGaGyQ76rvU8WYy"
    },
    "kernelspec": {
      "name": "python3",
      "display_name": "Python 3"
    },
    "language_info": {
      "name": "python"
    }
  },
  "cells": [
    {
      "cell_type": "markdown",
      "source": [
        "Part 1: Fill in the missing code in the mse_cost function to correctly calculate the Mean Squared Error (MSE) cost."
      ],
      "metadata": {
        "id": "73kVdky-Tl7Q"
      }
    },
    {
      "cell_type": "markdown",
      "source": [
        "<details>\n",
        "<summary>Hint 1</summary>\n",
        "\n",
        "- The variable `h` represents the predicted values, which can be calculated by taking the dot product of two arrays. Think about which arrays should be used here.\n",
        "\n",
        "</details>\n",
        "\n",
        "<details>\n",
        "<summary>Hint 2</summary>\n",
        "\n",
        "- To calculate the squared errors, subtract the actual values from the predicted values.\n",
        "\n",
        "</details>\n",
        "\n",
        "<details>\n",
        "<summary>Hint 3</summary>\n",
        "\n",
        "- Remember that the cost is the average of the squared errors.\n",
        "\n",
        "</details>"
      ],
      "metadata": {
        "id": "7JjnYxbnUern"
      }
    },
    {
      "cell_type": "code",
      "execution_count": null,
      "metadata": {
        "id": "wHEwxHdmTast"
      },
      "outputs": [],
      "source": [
        "import numpy as np\n",
        "\n",
        "def mse_cost(params, features, targets):\n",
        "    \"\"\"\n",
        "    Calculate the Mean Squared Error (MSE) cost function.\n",
        "    \"\"\"\n",
        "    m = len(targets)\n",
        "    h = np.dot(__, __)\n",
        "    J = (1 / (2 * m)) * np.sum(__)\n",
        "    return J"
      ]
    },
    {
      "cell_type": "markdown",
      "source": [
        "Part 2: Complete the linear_regression function by filling in the missing code to perform gradient descent."
      ],
      "metadata": {
        "id": "BdvRnKN1Tv75"
      }
    },
    {
      "cell_type": "markdown",
      "source": [
        "<details>\n",
        "<summary>Hint 1</summary>\n",
        "\n",
        "- Calculate the predicted values `h` using `np.dot()`.\n",
        "\n",
        "</details>\n",
        "\n",
        "<details>\n",
        "<summary>Hint 2</summary>\n",
        "\n",
        "- The `error` is the difference between the predicted values and actual values.\n",
        "\n",
        "</details>\n",
        "\n",
        "<details>\n",
        "<summary>Hint 3</summary>\n",
        "\n",
        "- The `gradient` can be calculated by taking the dot product of the transposed features matrix and the error, then dividing by `m`.\n",
        "\n",
        "</details>\n",
        "\n",
        "<details>\n",
        "<summary>Hint 4</summary>\n",
        "\n",
        "- Update the `params` by subtracting the product of the learning rate and the gradient.\n",
        "\n",
        "</details>"
      ],
      "metadata": {
        "id": "OaBbw3_nVBb3"
      }
    },
    {
      "cell_type": "code",
      "source": [
        "def linear_regression(features, targets, params, lr, epochs):\n",
        "    \"\"\"\n",
        "    Perform linear regression using gradient descent.\n",
        "    \"\"\"\n",
        "    m = len(targets)\n",
        "    costs = []\n",
        "    param_history = []\n",
        "\n",
        "    for _ in range(epochs):\n",
        "        h = np.dot(__, __)\n",
        "        error = __ - __\n",
        "        gradient = (1 / m) * np.dot(__, __)\n",
        "        params -= __ * __\n",
        "\n",
        "        cost = mse_cost(params, features, targets)\n",
        "        costs.append(cost)\n",
        "        param_history.append(params.copy())\n",
        "\n",
        "    return params, costs, param_history"
      ],
      "metadata": {
        "id": "hlGPWrQJTsID"
      },
      "execution_count": null,
      "outputs": []
    },
    {
      "cell_type": "markdown",
      "source": [
        "Part 3: Set the appropriate hyperparameters, initialize the parameters, and run the linear regression using gradient descent."
      ],
      "metadata": {
        "id": "7ppeKhO8Tz3k"
      }
    },
    {
      "cell_type": "markdown",
      "source": [
        "<details>\n",
        "<summary>Hint 1</summary>\n",
        "\n",
        "- Choose a reasonable learning rate, typically a small value like 0.01 or 0.001.\n",
        "\n",
        "</details>\n",
        "\n",
        "<details>\n",
        "<summary>Hint 2</summary>\n",
        "\n",
        "- Set the number of epochs to a value that allows sufficient iterations for convergence, e.g. 1000 or higher.\n",
        "\n",
        "</details>\n",
        "\n",
        "<details>\n",
        "<summary>Hint 3</summary>\n",
        "\n",
        "- The parameters `theta` should be initialized randomly with a shape matching the number of features plus the bias term.\n",
        "\n",
        "</details>"
      ],
      "metadata": {
        "id": "xkVsM7lgVUTV"
      }
    },
    {
      "cell_type": "code",
      "source": [
        "# Set hyperparameters\n",
        "learning_rate = ______\n",
        "num_epochs = _________\n",
        "\n",
        "# Initialize parameters randomly\n",
        "theta = np.random.rand(__)\n",
        "\n",
        "# Add bias term to feature matrix\n",
        "X_b = np.hstack((np.ones((len(X), 1)), X))\n",
        "\n",
        "# Run linear regression with gradient descent\n",
        "optimized_theta, cost_history, theta_history = linear_regression(X_b, y, theta, learning_rate, num_epochs)\n",
        "\n",
        "print(f\"Optimized Parameters:\")\n",
        "print(f\"  Theta0: {optimized_theta[0][0]:.3f}\")\n",
        "print(f\"  Theta1: {optimized_theta[1][0]:.3f}\")\n",
        "print(f\"Final MSE Cost: {cost_history[-1]:.3f}\")"
      ],
      "metadata": {
        "id": "rTzH_GhvTuG4"
      },
      "execution_count": null,
      "outputs": []
    }
  ]
}